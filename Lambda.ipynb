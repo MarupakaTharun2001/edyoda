{
 "cells": [
  {
   "cell_type": "code",
   "execution_count": null,
   "id": "48453bf8",
   "metadata": {},
   "outputs": [],
   "source": []
  },
  {
   "cell_type": "markdown",
   "id": "7dc3d5a1",
   "metadata": {},
   "source": [
    "Write a Python program to create a lambda function that adds 25 to a given number passed in as an argument.\n",
    "\n",
    "\n",
    "\n",
    "sample input: 10\n",
    "\n",
    "sample output: 35"
   ]
  },
  {
   "cell_type": "code",
   "execution_count": 3,
   "id": "ddc04158",
   "metadata": {},
   "outputs": [
    {
     "name": "stdout",
     "output_type": "stream",
     "text": [
      "Sample input : 10\n",
      "Sample output : 35\n"
     ]
    }
   ],
   "source": [
    "print(\"Sample input : 10\")\n",
    "z=(lambda a: a+25) (10)\n",
    "print(\"Sample output :\",z)"
   ]
  },
  {
   "cell_type": "code",
   "execution_count": null,
   "id": "3e1657ac",
   "metadata": {},
   "outputs": [],
   "source": []
  }
 ],
 "metadata": {
  "kernelspec": {
   "display_name": "Python 3 (ipykernel)",
   "language": "python",
   "name": "python3"
  },
  "language_info": {
   "codemirror_mode": {
    "name": "ipython",
    "version": 3
   },
   "file_extension": ".py",
   "mimetype": "text/x-python",
   "name": "python",
   "nbconvert_exporter": "python",
   "pygments_lexer": "ipython3",
   "version": "3.9.7"
  }
 },
 "nbformat": 4,
 "nbformat_minor": 5
}
